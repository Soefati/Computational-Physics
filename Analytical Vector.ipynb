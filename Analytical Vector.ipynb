{
 "cells": [
  {
   "cell_type": "code",
   "execution_count": 1,
   "metadata": {},
   "outputs": [],
   "source": [
    "# Libraries\n",
    "import numpy as np\n",
    "import sympy.physics.vector as vctr"
   ]
  },
  {
   "cell_type": "code",
   "execution_count": 2,
   "metadata": {},
   "outputs": [
    {
     "name": "stdout",
     "output_type": "stream",
     "text": [
      "A = [2 3 4]\n",
      "B = [ 4 -2  6]\n",
      "[2 3 4] + [ 4 -2  6] = [ 6  1 10]\n",
      "[2 3 4] - [ 4 -2  6] = [-2  5 -2]\n",
      "[2 3 4] . [ 4 -2  6] = 26\n",
      "[2 3 4] x [ 4 -2  6] = [ 26   4 -16]\n"
     ]
    }
   ],
   "source": [
    "# Calculation\n",
    "A = np.array([2, 3, 4]) # 2i + 3j + 4k\n",
    "B = np.array([4, -2, 6]) # 4i - 2j + 6k\n",
    "print(f\"A = {A}\")\n",
    "print(f\"B = {B}\")\n",
    "result = A + B\n",
    "print(f\"{A} + {B} = {result}\")\n",
    "result = A - B\n",
    "print(f\"{A} - {B} = {result}\")\n",
    "result = np.dot(A, B)\n",
    "print(f\"{A} . {B} = {result}\")\n",
    "result = np.cross(A, B)\n",
    "print(f\"{A} x {B} = {result}\")"
   ]
  },
  {
   "cell_type": "code",
   "execution_count": 3,
   "metadata": {},
   "outputs": [],
   "source": [
    "R = vctr.ReferenceFrame(\"R\")\n",
    "PHI = R[0] * R[1] * R[2] # PHI = xyz\n",
    "# A = 2xy(i) + xyz(j) - yz(k)\n",
    "A = 2 * R[0] * R[1] * R.x + R[0] * R[1] * R[2] * R.y - R[1] * R[2] * R.z\n",
    "a = vctr.gradient(PHI, R)\n",
    "b = vctr.divergence(A, R)\n",
    "c = vctr.curl(A, R)\n",
    "d = vctr.divergence(PHI * A, R)\n",
    "e = vctr.curl(PHI * A, R)"
   ]
  },
  {
   "cell_type": "code",
   "execution_count": 4,
   "metadata": {},
   "outputs": [
    {
     "data": {
      "text/latex": [
       "$\\displaystyle R_{x} R_{y} R_{z}$"
      ],
      "text/plain": [
       "R_x*R_y*R_z"
      ]
     },
     "execution_count": 4,
     "metadata": {},
     "output_type": "execute_result"
    }
   ],
   "source": [
    "PHI"
   ]
  },
  {
   "cell_type": "code",
   "execution_count": 5,
   "metadata": {},
   "outputs": [
    {
     "data": {
      "text/latex": [
       "$\\displaystyle 2 R_{x} R_{y}\\mathbf{\\hat{r}_x} + R_{x} R_{y} R_{z}\\mathbf{\\hat{r}_y} -  R_{y} R_{z}\\mathbf{\\hat{r}_z}$"
      ],
      "text/plain": [
       "2*R_x*R_y*R.x + R_x*R_y*R_z*R.y - R_y*R_z*R.z"
      ]
     },
     "execution_count": 5,
     "metadata": {},
     "output_type": "execute_result"
    }
   ],
   "source": [
    "A"
   ]
  },
  {
   "cell_type": "code",
   "execution_count": 6,
   "metadata": {},
   "outputs": [
    {
     "data": {
      "text/latex": [
       "$\\displaystyle R_{y} R_{z}\\mathbf{\\hat{r}_x} + R_{x} R_{z}\\mathbf{\\hat{r}_y} + R_{x} R_{y}\\mathbf{\\hat{r}_z}$"
      ],
      "text/plain": [
       "R_y*R_z*R.x + R_x*R_z*R.y + R_x*R_y*R.z"
      ]
     },
     "execution_count": 6,
     "metadata": {},
     "output_type": "execute_result"
    }
   ],
   "source": [
    "a"
   ]
  },
  {
   "cell_type": "code",
   "execution_count": 7,
   "metadata": {},
   "outputs": [
    {
     "data": {
      "text/latex": [
       "$\\displaystyle R_{x} R_{z} + R_{y}$"
      ],
      "text/plain": [
       "R_x*R_z + R_y"
      ]
     },
     "execution_count": 7,
     "metadata": {},
     "output_type": "execute_result"
    }
   ],
   "source": [
    "b"
   ]
  },
  {
   "cell_type": "code",
   "execution_count": 8,
   "metadata": {},
   "outputs": [
    {
     "data": {
      "text/latex": [
       "$\\displaystyle (- R_{x} R_{y} - R_{z})\\mathbf{\\hat{r}_x} + (- 2 R_{x} + R_{y} R_{z})\\mathbf{\\hat{r}_z}$"
      ],
      "text/plain": [
       "(-R_x*R_y - R_z)*R.x + (-2*R_x + R_y*R_z)*R.z"
      ]
     },
     "execution_count": 8,
     "metadata": {},
     "output_type": "execute_result"
    }
   ],
   "source": [
    "c"
   ]
  },
  {
   "cell_type": "code",
   "execution_count": 9,
   "metadata": {},
   "outputs": [
    {
     "data": {
      "text/latex": [
       "$\\displaystyle 2 R_{x}^{2} R_{y} R_{z}^{2} + 2 R_{x} R_{y}^{2} R_{z}$"
      ],
      "text/plain": [
       "2*R_x**2*R_y*R_z**2 + 2*R_x*R_y**2*R_z"
      ]
     },
     "execution_count": 9,
     "metadata": {},
     "output_type": "execute_result"
    }
   ],
   "source": [
    "d"
   ]
  },
  {
   "cell_type": "code",
   "execution_count": 10,
   "metadata": {},
   "outputs": [
    {
     "data": {
      "text/latex": [
       "$\\displaystyle (- 2 R_{x}^{2} R_{y}^{2} R_{z} - 2 R_{x} R_{y} R_{z}^{2})\\mathbf{\\hat{r}_x} + (2 R_{x}^{2} R_{y}^{2} + R_{y}^{2} R_{z}^{2})\\mathbf{\\hat{r}_y} + (- 4 R_{x}^{2} R_{y} R_{z} + 2 R_{x} R_{y}^{2} R_{z}^{2})\\mathbf{\\hat{r}_z}$"
      ],
      "text/plain": [
       "(-2*R_x**2*R_y**2*R_z - 2*R_x*R_y*R_z**2)*R.x + (2*R_x**2*R_y**2 + R_y**2*R_z**2)*R.y + (-4*R_x**2*R_y*R_z + 2*R_x*R_y**2*R_z**2)*R.z"
      ]
     },
     "execution_count": 10,
     "metadata": {},
     "output_type": "execute_result"
    }
   ],
   "source": [
    "e"
   ]
  }
 ],
 "metadata": {
  "kernelspec": {
   "display_name": "Python 3",
   "language": "python",
   "name": "python3"
  },
  "language_info": {
   "codemirror_mode": {
    "name": "ipython",
    "version": 3
   },
   "file_extension": ".py",
   "mimetype": "text/x-python",
   "name": "python",
   "nbconvert_exporter": "python",
   "pygments_lexer": "ipython3",
   "version": "3.11.3"
  },
  "orig_nbformat": 4
 },
 "nbformat": 4,
 "nbformat_minor": 2
}
