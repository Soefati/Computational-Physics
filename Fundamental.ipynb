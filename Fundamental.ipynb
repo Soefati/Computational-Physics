{
 "cells": [
  {
   "cell_type": "code",
   "execution_count": 1,
   "metadata": {},
   "outputs": [],
   "source": [
    "# Libraries\n",
    "from math import log, pi, sin, cos, tan, factorial\n",
    "\n",
    "# Initialize\n",
    "x = 16\n",
    "y = 4"
   ]
  },
  {
   "cell_type": "code",
   "execution_count": 2,
   "metadata": {},
   "outputs": [
    {
     "name": "stdout",
     "output_type": "stream",
     "text": [
      "16 + 4 = 20\n",
      "16 - 4 = 12\n",
      "16 x 4 = 64\n",
      "16 : 4 = 4.0\n"
     ]
    }
   ],
   "source": [
    "# Basic Operations\n",
    "result = x + y\n",
    "print(f'{x} + {y} = {result}')\n",
    "\n",
    "result = x - y\n",
    "print(f'{x} - {y} = {result}')\n",
    "\n",
    "result = x * y\n",
    "print(f'{x} x {y} = {result}')\n",
    "\n",
    "result = x / y\n",
    "print(f'{x} : {y} = {result}')"
   ]
  },
  {
   "cell_type": "code",
   "execution_count": 3,
   "metadata": {},
   "outputs": [
    {
     "name": "stdout",
     "output_type": "stream",
     "text": [
      "16 ^ 4 = 65536\n",
      "16 ^ 1/4 = 2.0\n",
      "16 Log 4 = 0.5\n",
      "16 Mod 4 = 0\n",
      "16! = 20922789888000\n",
      "4! = 24 \n",
      "\n"
     ]
    }
   ],
   "source": [
    "# Advanced Operations\n",
    "result = x ** y\n",
    "print(f'{x} ^ {y} = {result}')\n",
    "\n",
    "result = x ** (1 / y)\n",
    "print(f'{x} ^ 1/{y} = {result}')\n",
    "\n",
    "result = log(y, x)\n",
    "print(f'{x} Log {y} = {result}')\n",
    "\n",
    "result = x % y\n",
    "print(f'{x} Mod {y} = {result}')\n",
    "\n",
    "result = factorial(x)\n",
    "print(f'{x}! = {result}')\n",
    "\n",
    "result = factorial(y)\n",
    "print(f'{y}! = {result}', \"\\n\")"
   ]
  },
  {
   "cell_type": "code",
   "execution_count": 4,
   "metadata": {},
   "outputs": [
    {
     "name": "stdout",
     "output_type": "stream",
     "text": [
      "sin(0.7853981633974483) = 0.7071067811865476\n",
      "cos(0.7853981633974483) = 0.7071067811865476\n",
      "tan(0.7853981633974483) = 0.9999999999999999\n"
     ]
    }
   ],
   "source": [
    "# Trigonometry Operations\n",
    "angle = pi / 4 # In Radians\n",
    "\n",
    "result = sin(angle)\n",
    "print(f'sin({angle}) = {result}')\n",
    "\n",
    "result = cos(angle)\n",
    "print(f'cos({angle}) = {result}')\n",
    "\n",
    "result = tan(angle)\n",
    "print(f'tan({angle}) = {result}')"
   ]
  }
 ],
 "metadata": {
  "kernelspec": {
   "display_name": "Python 3",
   "language": "python",
   "name": "python3"
  },
  "language_info": {
   "codemirror_mode": {
    "name": "ipython",
    "version": 3
   },
   "file_extension": ".py",
   "mimetype": "text/x-python",
   "name": "python",
   "nbconvert_exporter": "python",
   "pygments_lexer": "ipython3",
   "version": "3.11.3"
  },
  "orig_nbformat": 4
 },
 "nbformat": 4,
 "nbformat_minor": 2
}
