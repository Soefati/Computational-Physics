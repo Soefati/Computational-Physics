{
 "cells": [
  {
   "cell_type": "code",
   "execution_count": 1,
   "metadata": {},
   "outputs": [],
   "source": [
    "# Libraries\n",
    "from scipy import integrate\n",
    "import numpy as np\n",
    "import scipy.special as sc"
   ]
  },
  {
   "cell_type": "code",
   "execution_count": 2,
   "metadata": {},
   "outputs": [
    {
     "name": "stdout",
     "output_type": "stream",
     "text": [
      "By Integration: (-1.8977443680789794, 1.4512058221782809e-10)\n",
      "Gamma Function: -1.8977443680796138\n"
     ]
    }
   ],
   "source": [
    "# Gamma Function\n",
    "n = 21 / 45\n",
    "fx = lambda x: - np.exp(-x) * x ** (n - 1)\n",
    "integration = integrate.quad(fx, 0, np.inf)\n",
    "gamma = - sc.gamma(n)\n",
    "print(f'By Integration: {integration}')\n",
    "print(f'Gamma Function: {gamma}')"
   ]
  },
  {
   "cell_type": "code",
   "execution_count": 3,
   "metadata": {},
   "outputs": [
    {
     "name": "stdout",
     "output_type": "stream",
     "text": [
      "By Integration: (0.015446735007686957, 2.169163633436444e-11)\n",
      "Beta Function: 0.015446735007689436\n"
     ]
    }
   ],
   "source": [
    "# Beta Function\n",
    "p = 9\n",
    "q = 11 / 6\n",
    "fy = lambda x: x ** (p - 1) * ((1 - x) ** (q - 1))\n",
    "integration = integrate.quad(fy, 0, 1)\n",
    "beta = sc.beta(p, q)\n",
    "print(f'By Integration: {integration}')\n",
    "print(f'Beta Function: {beta}')"
   ]
  },
  {
   "cell_type": "code",
   "execution_count": 4,
   "metadata": {},
   "outputs": [
    {
     "name": "stdout",
     "output_type": "stream",
     "text": [
      "By Integration: (0.8427007929497149, 9.355858232026503e-15)\n",
      "Error Function: 0.8427007929497148\n"
     ]
    }
   ],
   "source": [
    "# Error Function\n",
    "x = 1\n",
    "fz = lambda t: np.exp(-t ** 2) * 2 * np.pi ** (-0.5)\n",
    "integration = integrate.quad(fz, 0, x)\n",
    "erfx = sc.erf(x)\n",
    "print(f'By Integration: {integration}')\n",
    "print(f'Error Function: {erfx}')"
   ]
  }
 ],
 "metadata": {
  "kernelspec": {
   "display_name": "Python 3",
   "language": "python",
   "name": "python3"
  },
  "language_info": {
   "codemirror_mode": {
    "name": "ipython",
    "version": 3
   },
   "file_extension": ".py",
   "mimetype": "text/x-python",
   "name": "python",
   "nbconvert_exporter": "python",
   "pygments_lexer": "ipython3",
   "version": "3.11.3"
  },
  "orig_nbformat": 4
 },
 "nbformat": 4,
 "nbformat_minor": 2
}
