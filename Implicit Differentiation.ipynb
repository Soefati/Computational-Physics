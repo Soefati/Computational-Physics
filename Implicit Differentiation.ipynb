{
 "cells": [
  {
   "cell_type": "code",
   "execution_count": 9,
   "metadata": {},
   "outputs": [],
   "source": [
    "# Libraries\n",
    "from math import exp, sin\n",
    "from sympy import *\n",
    "from sympy.abc import x, t"
   ]
  },
  {
   "cell_type": "code",
   "execution_count": 10,
   "metadata": {},
   "outputs": [],
   "source": [
    "# Calculation\n",
    "a = simplify(idiff(t * exp(x * t) - sin(x), x, t)) # First Derivative\n",
    "b = simplify(idiff(t * exp(x * t) - sin(x), x, t, 2)) # Second Derivative"
   ]
  },
  {
   "cell_type": "code",
   "execution_count": 11,
   "metadata": {},
   "outputs": [
    {
     "data": {
      "text/latex": [
       "$\\displaystyle \\frac{\\left(- t x - 1\\right) e^{t x}}{t^{2} e^{t x} - \\cos{\\left(x \\right)}}$"
      ],
      "text/plain": [
       "(-t*x - 1)*exp(t*x)/(t**2*exp(t*x) - cos(x))"
      ]
     },
     "execution_count": 11,
     "metadata": {},
     "output_type": "execute_result"
    }
   ],
   "source": [
    "a"
   ]
  },
  {
   "cell_type": "code",
   "execution_count": 12,
   "metadata": {},
   "outputs": [
    {
     "data": {
      "text/latex": [
       "$\\displaystyle \\frac{\\left(2 t^{4} x e^{2 t x} + 3 t^{3} e^{2 t x} - t^{2} x^{2} e^{t x} \\sin{\\left(x \\right)} - 2 t^{2} x e^{t x} \\cos{\\left(x \\right)} - t x^{2} \\cos^{2}{\\left(x \\right)} - 2 t x e^{t x} \\sin{\\left(x \\right)} - 4 t e^{t x} \\cos{\\left(x \\right)} - 2 x \\cos^{2}{\\left(x \\right)} - e^{t x} \\sin{\\left(x \\right)}\\right) e^{t x}}{\\left(t^{2} e^{t x} - \\cos{\\left(x \\right)}\\right)^{3}}$"
      ],
      "text/plain": [
       "(2*t**4*x*exp(2*t*x) + 3*t**3*exp(2*t*x) - t**2*x**2*exp(t*x)*sin(x) - 2*t**2*x*exp(t*x)*cos(x) - t*x**2*cos(x)**2 - 2*t*x*exp(t*x)*sin(x) - 4*t*exp(t*x)*cos(x) - 2*x*cos(x)**2 - exp(t*x)*sin(x))*exp(t*x)/(t**2*exp(t*x) - cos(x))**3"
      ]
     },
     "execution_count": 12,
     "metadata": {},
     "output_type": "execute_result"
    }
   ],
   "source": [
    "b"
   ]
  }
 ],
 "metadata": {
  "kernelspec": {
   "display_name": "Python 3",
   "language": "python",
   "name": "python3"
  },
  "language_info": {
   "codemirror_mode": {
    "name": "ipython",
    "version": 3
   },
   "file_extension": ".py",
   "mimetype": "text/x-python",
   "name": "python",
   "nbconvert_exporter": "python",
   "pygments_lexer": "ipython3",
   "version": "3.11.3"
  },
  "orig_nbformat": 4
 },
 "nbformat": 4,
 "nbformat_minor": 2
}
