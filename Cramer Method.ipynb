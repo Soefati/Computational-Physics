{
 "cells": [
  {
   "cell_type": "code",
   "execution_count": 1,
   "metadata": {},
   "outputs": [],
   "source": [
    "# Libraries\n",
    "import numpy as np\n",
    "\n",
    "# Initialize and Declaration\n",
    "# -2x + 3y + z = 9\n",
    "# 3x + 4y - 5z = 0\n",
    "# x - 2y + z = -4\n",
    "matrix = np.array([[-2, 3, 1], [3, 4, -5], [1, -2, 1]]) # Variable Coefficient\n",
    "constant = np.array([[9], [0], [-4]]) # Constant\n",
    "det_matrix = np.linalg.det(matrix) # determinant"
   ]
  },
  {
   "cell_type": "code",
   "execution_count": 2,
   "metadata": {},
   "outputs": [
    {
     "data": {
      "text/plain": [
       "-22.000000000000004"
      ]
     },
     "execution_count": 2,
     "metadata": {},
     "output_type": "execute_result"
    }
   ],
   "source": [
    "det_matrix"
   ]
  },
  {
   "cell_type": "code",
   "execution_count": 3,
   "metadata": {},
   "outputs": [
    {
     "name": "stdout",
     "output_type": "stream",
     "text": [
      "Matrix M1:\n",
      "[[ 9  3  1]\n",
      " [ 0  4 -5]\n",
      " [-4 -2  1]]\n",
      "Matrix M2:\n",
      "[[-2  9  1]\n",
      " [ 3  0 -5]\n",
      " [ 1 -4  1]]\n",
      "Matrix M3:\n",
      "[[-2  3  9]\n",
      " [ 3  4  0]\n",
      " [ 1 -2 -4]]\n"
     ]
    }
   ],
   "source": [
    "# Calculation\n",
    "n = len(matrix)\n",
    "m = np.zeros((n, 1))\n",
    "for i in range(0, n):\n",
    "    for j in range(0, n):\n",
    "        matrix[j, i] = constant[j][0]\n",
    "    print(f'Matrix M{i + 1}:')\n",
    "    print(matrix)\n",
    "    det_matrix_i = np.linalg.det(matrix)\n",
    "    m[i][0] = det_matrix_i / det_matrix\n",
    "    matrix = np.array([[-2, 3, 1], [3, 4, -5], [1, -2, 1]])"
   ]
  },
  {
   "cell_type": "code",
   "execution_count": 4,
   "metadata": {},
   "outputs": [
    {
     "name": "stdout",
     "output_type": "stream",
     "text": [
      "\n",
      "Solution:\n",
      "[[-1.]\n",
      " [ 2.]\n",
      " [ 1.]]\n",
      "or\n",
      "x = [-1.]; y = [2.]; z = [1.]\n"
     ]
    }
   ],
   "source": [
    "print(\"\\nSolution:\")\n",
    "print(m)\n",
    "print(\"or\")\n",
    "print(f'x = {m[0]}; y = {m[1]}; z = {m[2]}')"
   ]
  }
 ],
 "metadata": {
  "kernelspec": {
   "display_name": "Python 3",
   "language": "python",
   "name": "python3"
  },
  "language_info": {
   "codemirror_mode": {
    "name": "ipython",
    "version": 3
   },
   "file_extension": ".py",
   "mimetype": "text/x-python",
   "name": "python",
   "nbconvert_exporter": "python",
   "pygments_lexer": "ipython3",
   "version": "3.11.3"
  },
  "orig_nbformat": 4
 },
 "nbformat": 4,
 "nbformat_minor": 2
}
